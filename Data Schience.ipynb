{
  "nbformat": 4,
  "nbformat_minor": 0,
  "metadata": {
    "colab": {
      "provenance": [],
      "toc_visible": true,
      "authorship_tag": "ABX9TyOhL6hkfxbkQf+wdtdBMH5Q",
      "include_colab_link": true
    },
    "kernelspec": {
      "name": "python3",
      "display_name": "Python 3"
    },
    "language_info": {
      "name": "python"
    }
  },
  "cells": [
    {
      "cell_type": "markdown",
      "metadata": {
        "id": "view-in-github",
        "colab_type": "text"
      },
      "source": [
        "<a href=\"https://colab.research.google.com/github/alihassan145/alihassan145/blob/main/Data%20Schience.ipynb\" target=\"_parent\"><img src=\"https://colab.research.google.com/assets/colab-badge.svg\" alt=\"Open In Colab\"/></a>"
      ]
    },
    {
      "cell_type": "markdown",
      "source": [
        "# Data Science Tools and Ecosystem"
      ],
      "metadata": {
        "id": "yeG-qm97FbpR"
      }
    },
    {
      "cell_type": "markdown",
      "source": [
        "In this notebook, Data Science Tools and Ecosystem are summarized."
      ],
      "metadata": {
        "id": "ycirud9AE88Y"
      }
    },
    {
      "cell_type": "markdown",
      "source": [
        "Some of the popular languages that Data Scientists use are:\n",
        "\n",
        "1. Python\n",
        "2. R\n",
        "3. SQL\n",
        "4. Julia\n",
        "5. Scala"
      ],
      "metadata": {
        "id": "7Zgi7Yq0FG_r"
      }
    },
    {
      "cell_type": "markdown",
      "source": [
        "Some of the commonly used libraries used by Data Scientists include:\n",
        "\n",
        "1. Pandas (Python)\n",
        "2. NumPy (Python)\n",
        "3. Scikit-learn (Python)\n",
        "4. TensorFlow (Python)\n",
        "5. ggplot2 (R)"
      ],
      "metadata": {
        "id": "hChlM2JnFJWr"
      }
    },
    {
      "cell_type": "markdown",
      "source": [
        "| Data Science Tools |\n",
        "|-------------------|\n",
        "| Jupyter Notebook   |\n",
        "| RStudio           |\n",
        "| VS Code           |\n",
        "| Spyder            |\n",
        "| Zeppelin          |"
      ],
      "metadata": {
        "id": "JhxNNq68FLvC"
      }
    },
    {
      "cell_type": "markdown",
      "source": [
        "### Arithmetic Expression Examples\n",
        "\n",
        "Below are a few examples of evaluating arithmetic expressions in Python."
      ],
      "metadata": {
        "id": "BWQV-AkfFOgp"
      }
    },
    {
      "source": [
        "# Multiply and add numbers\n",
        "result = (3 * 4) + 5\n",
        "print(result)  # Output: 17"
      ],
      "cell_type": "code",
      "metadata": {
        "colab": {
          "base_uri": "https://localhost:8080/"
        },
        "id": "umHN-LuBEuVR",
        "outputId": "f4966b12-03ef-4b23-8829-6acb2e3cdb41"
      },
      "execution_count": 5,
      "outputs": [
        {
          "output_type": "stream",
          "name": "stdout",
          "text": [
            "17\n"
          ]
        }
      ]
    },
    {
      "source": [
        "# Convert minutes to hours\n",
        "minutes = 200\n",
        "hours = minutes / 60\n",
        "print(hours)  # Output: 3.3333333333333335"
      ],
      "cell_type": "code",
      "metadata": {
        "colab": {
          "base_uri": "https://localhost:8080/"
        },
        "id": "vAreI3lyEvum",
        "outputId": "7d05777e-0afa-48dc-a6f6-1ff8c0994889"
      },
      "execution_count": 6,
      "outputs": [
        {
          "output_type": "stream",
          "name": "stdout",
          "text": [
            "3.3333333333333335\n"
          ]
        }
      ]
    },
    {
      "cell_type": "markdown",
      "source": [
        "### Objectives:\n",
        "\n",
        "* List popular languages for Data Science.\n",
        "* List commonly used libraries in Data Science.\n",
        "* Create a table of Data Science tools.\n",
        "* Demonstrate arithmetic expressions in Python.\n",
        "* Convert units (minutes to hours)."
      ],
      "metadata": {
        "id": "EeBKyoV_FRtV"
      }
    },
    {
      "cell_type": "markdown",
      "source": [
        "## Author\n",
        "\n",
        "Ali hassan"
      ],
      "metadata": {
        "id": "_10nqd9wFW6a"
      }
    }
  ]
}